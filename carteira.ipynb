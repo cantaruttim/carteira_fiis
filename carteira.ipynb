{
 "cells": [
  {
   "cell_type": "code",
   "execution_count": null,
   "metadata": {},
   "outputs": [],
   "source": [
    "from pyspark.sql import SparkSession\n",
    "\n",
    "spark = SparkSession \\\n",
    "    .builder \\\n",
    "    .appName(\"Calculator\") \\\n",
    "    .getOrCreate()"
   ]
  },
  {
   "cell_type": "code",
   "execution_count": 50,
   "metadata": {},
   "outputs": [],
   "source": [
    "from pyspark.sql import functions as F\n",
    "from pyspark.sql.types import StructField, StructType, StringType, FloatType\n",
    "\n",
    "# tabela de fiis do mês de Julho\n",
    "fiis = spark.read.csv(\"files/fiis/fiis_jul2024.csv\", header=True, sep=\";\")\n",
    "\n",
    "fiis = (fiis.withColumn(\"Cotacao\", F.regexp_replace(F.col(\"Cotacao\"), \",\", \".\").cast(\"double\"))\n",
    "           .withColumn(\"FFO_Yield\", F.regexp_replace(F.col(\"FFO_Yield\"), \",\", \".\").cast(\"double\"))\n",
    "           .withColumn(\"Dividend_Yield\", F.regexp_replace(F.col(\"Dividend_Yield\"), \",\", \".\").cast(\"double\"))\n",
    "           .withColumn(\"P_PER_VP\", F.regexp_replace(F.col(\"P_PER_VP\"), \",\", \".\").cast(\"double\"))\n",
    "           .withColumn(\"Liquidez\", F.regexp_replace(F.col(\"Liquidez\"), \",\", \".\").cast(\"double\"))\n",
    "           .withColumn(\"Qtd_de_imoveis\", F.regexp_replace(F.col(\"Qtd_de_imoveis\"), \",\", \".\").cast(\"double\"))\n",
    "           .withColumn(\"Preco_do_m2\", F.regexp_replace(F.col(\"Preco_do_m2\"), \",\", \".\").cast(\"double\"))\n",
    "           .withColumn(\"Aluguel_por_m2\", F.regexp_replace(F.col(\"Aluguel_por_m2\"), \",\", \".\").cast(\"double\"))\n",
    "           .withColumn(\"Cap_Rate_PERC\", F.regexp_replace(F.col(\"Cap_Rate_PERC\"), \",\", \".\").cast(\"double\"))\n",
    "           .withColumn(\"Vacancia_Media\", F.regexp_replace(F.col(\"Vacancia_Media\"), \",\", \".\").cast(\"double\"))\n",
    "           )\n",
    "\n",
    "fiis = fiis.fillna(0)\n",
    "fiis = fiis.select(\"Papel\", \"Segmento\", \"Cotacao\", \"FFO_Yield\", \"Dividend_Yield\", \"P_PER_VP\", \"Vacancia_Media\")\n",
    "\n",
    "\n",
    "# Dados da carteira de FIIs\n",
    "FII = {\n",
    "    \"PAPEL\": ['VINO11', 'VGIA11', 'GARE11', 'VGHF11'],\n",
    "    \"VALOR_POR_COTA\": [0.0600, 0.1000, 0.0870, 0.0900]\n",
    "}\n",
    "\n",
    "fii_schema = StructType([\n",
    "    StructField(\"PAPEL\", StringType(), False),\n",
    "    StructField(\"VALOR_POR_COTA\", FloatType(), False)\n",
    "])\n",
    "\n",
    "FII = spark.createDataFrame(list(zip(*FII.values())), schema=fii_schema)\n"
   ]
  },
  {
   "cell_type": "code",
   "execution_count": 63,
   "metadata": {},
   "outputs": [
    {
     "name": "stdout",
     "output_type": "stream",
     "text": [
      "+------+-------------------+-------+---------+--------------+--------+--------------+--------------+------------+------------+---------+--------------+\n",
      "| Papel|           Segmento|Cotacao|FFO_Yield|Dividend_Yield|P_PER_VP|Vacancia_Media|VALOR_POR_COTA|MAGIC_NUMBER|INVESTIMENTO|NUM_COTAS|RETORNO_MENSAL|\n",
      "+------+-------------------+-------+---------+--------------+--------+--------------+--------------+------------+------------+---------+--------------+\n",
      "|VINO11| Lajes Corporativas|   6.78|   0.1077|           0.1|    0.63|        0.0408|          0.06|       113.0|       766.0|     22.0|          1.32|\n",
      "|VGIA11|Títulos e Val. Mob.|   7.97|   0.1708|        0.1547|    0.83|           0.0|           0.1|        80.0|       638.0|     19.0|           1.9|\n",
      "|GARE11|            Híbrido|   9.03|   0.0519|        0.0467|    0.95|           0.0|         0.087|       104.0|       939.0|     17.0|         1.479|\n",
      "|VGHF11|            Híbrido|   8.79|   0.0434|        0.1273|    0.96|           0.0|          0.09|        98.0|       861.0|     17.0|          1.53|\n",
      "+------+-------------------+-------+---------+--------------+--------+--------------+--------------+------------+------------+---------+--------------+\n",
      "\n"
     ]
    }
   ],
   "source": [
    "carteira = fiis.join(FII, on=\"PAPEL\")\n",
    "valor_investimento_mensal = 150.00\n",
    "\n",
    "carteira = carteira.withColumn(\"MAGIC_NUMBER\",  F.round(F.expr(\"Cotacao / VALOR_POR_COTA\"),0))        \\\n",
    "                   .withColumn(\"INVESTIMENTO\", F.round(F.expr(\"MAGIC_NUMBER * Cotacao\"), 0))   \\\n",
    "                   .withColumn(\"NUM_COTAS\", F.round(F.expr(f\"{valor_investimento_mensal} / Cotacao\"), 0))      \\\n",
    "                   .withColumn(\"RETORNO_MENSAL\", F.round(F.expr(\"VALOR_POR_COTA * NUM_COTAS\"),3))\n",
    "                   \n",
    "carteira.show()"
   ]
  },
  {
   "cell_type": "code",
   "execution_count": null,
   "metadata": {},
   "outputs": [],
   "source": []
  },
  {
   "cell_type": "markdown",
   "metadata": {},
   "source": [
    "## Filtrando papeis específicos"
   ]
  },
  {
   "cell_type": "code",
   "execution_count": 10,
   "metadata": {},
   "outputs": [
    {
     "name": "stdout",
     "output_type": "stream",
     "text": [
      "+------+------------------+-------+---------+--------------+--------+--------------+\n",
      "| Papel|          Segmento|Cotacao|FFO_Yield|Dividend_Yield|P_PER_VP|Vacancia_Media|\n",
      "+------+------------------+-------+---------+--------------+--------+--------------+\n",
      "|VINO11|Lajes Corporativas|   6.78|   0.1077|           0.1|    0.63|        0.0408|\n",
      "+------+------------------+-------+---------+--------------+--------+--------------+\n",
      "\n",
      "+------+--------+-------+---------+--------------+--------+--------------+\n",
      "| Papel|Segmento|Cotacao|FFO_Yield|Dividend_Yield|P_PER_VP|Vacancia_Media|\n",
      "+------+--------+-------+---------+--------------+--------+--------------+\n",
      "|VGHF11| Híbrido|   8.79|   0.0434|        0.1273|    0.96|           0.0|\n",
      "+------+--------+-------+---------+--------------+--------+--------------+\n",
      "\n",
      "+------+--------+-------+---------+--------------+--------+--------------+\n",
      "| Papel|Segmento|Cotacao|FFO_Yield|Dividend_Yield|P_PER_VP|Vacancia_Media|\n",
      "+------+--------+-------+---------+--------------+--------+--------------+\n",
      "|GARE11| Híbrido|   9.03|   0.0519|        0.0467|    0.95|           0.0|\n",
      "+------+--------+-------+---------+--------------+--------+--------------+\n",
      "\n",
      "+------+-------------------+-------+---------+--------------+--------+--------------+\n",
      "| Papel|           Segmento|Cotacao|FFO_Yield|Dividend_Yield|P_PER_VP|Vacancia_Media|\n",
      "+------+-------------------+-------+---------+--------------+--------+--------------+\n",
      "|VGIA11|Títulos e Val. Mob.|   7.97|   0.1708|        0.1547|    0.83|           0.0|\n",
      "+------+-------------------+-------+---------+--------------+--------+--------------+\n",
      "\n"
     ]
    }
   ],
   "source": [
    "def carteira_desejada(carteira):\n",
    "\n",
    "    \"\"\"Verifica se a carteira desejada existe na base de consulta\"\"\"\n",
    "    for i in range(0, len(carteira)):\n",
    "        fiis.filter(f\"Papel == '{carteira[i]}'\").show()\n",
    "\n",
    "carteira_desejada([\"VINO11\", \"VGHF11\", \"GARE11\", \"VGIA11\"])"
   ]
  }
 ],
 "metadata": {
  "kernelspec": {
   "display_name": "Python 3",
   "language": "python",
   "name": "python3"
  },
  "language_info": {
   "codemirror_mode": {
    "name": "ipython",
    "version": 3
   },
   "file_extension": ".py",
   "mimetype": "text/x-python",
   "name": "python",
   "nbconvert_exporter": "python",
   "pygments_lexer": "ipython3",
   "version": "3.11.7"
  }
 },
 "nbformat": 4,
 "nbformat_minor": 2
}
